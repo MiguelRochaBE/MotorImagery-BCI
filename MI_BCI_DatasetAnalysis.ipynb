{
  "nbformat": 4,
  "nbformat_minor": 0,
  "metadata": {
    "colab": {
      "provenance": [],
      "include_colab_link": true
    },
    "kernelspec": {
      "name": "python3",
      "display_name": "Python 3"
    },
    "language_info": {
      "name": "python"
    }
  },
  "cells": [
    {
      "cell_type": "markdown",
      "metadata": {
        "id": "view-in-github",
        "colab_type": "text"
      },
      "source": [
        "<a href=\"https://colab.research.google.com/github/MiguelRochaBE/MotorImagery-BCI/blob/master/MI_BCI_DatasetAnalysis.ipynb\" target=\"_parent\"><img src=\"https://colab.research.google.com/assets/colab-badge.svg\" alt=\"Open In Colab\"/></a>"
      ]
    },
    {
      "cell_type": "markdown",
      "source": [
        "## **Conexão ao Google Colab**"
      ],
      "metadata": {
        "id": "VrKyad_4ULIA"
      }
    },
    {
      "cell_type": "code",
      "execution_count": 112,
      "metadata": {
        "colab": {
          "base_uri": "https://localhost:8080/"
        },
        "id": "JhTDeScvTnWH",
        "outputId": "17480382-fc68-4e25-cb52-4a1010595921"
      },
      "outputs": [
        {
          "output_type": "stream",
          "name": "stdout",
          "text": [
            "Mounted at /content/drive\n"
          ]
        }
      ],
      "source": [
        "from google.colab import drive\n",
        "drive.mount('/content/drive', force_remount=True) "
      ]
    },
    {
      "cell_type": "markdown",
      "source": [
        "## **Extrair base de dados do ficheiro zip**\n",
        "\n",
        "Link: https://physionet.org/content/eegmmidb/1.0.0/"
      ],
      "metadata": {
        "id": "7hhzOCwEUcc5"
      }
    },
    {
      "cell_type": "code",
      "source": [
        "# !unzip -u \"/content/drive/MyDrive/B(i)onitos/files.zip\" -d \"/content/drive/MyDrive\""
      ],
      "metadata": {
        "id": "UyPFvu1_Ubuo"
      },
      "execution_count": 113,
      "outputs": []
    },
    {
      "cell_type": "markdown",
      "source": [
        "## **Listar todos os ficheiros da base de dados**"
      ],
      "metadata": {
        "id": "bgr4FISrU2J_"
      }
    },
    {
      "cell_type": "code",
      "source": [
        "import os\n",
        "\n",
        "def run_fast_scandir(dir, ext):    # dir: str, ext: list\n",
        "    subfolders, datafiles = [], []\n",
        "\n",
        "    for f in os.scandir(dir):\n",
        "        if f.is_dir():\n",
        "            subfolders.append(f.path)\n",
        "        if f.is_file():\n",
        "            if os.path.splitext(f.name)[1].lower() in ext:\n",
        "                datafiles.append(f.path)\n",
        "\n",
        "    for dir in list(subfolders):\n",
        "        sf, f = run_fast_scandir(dir, ext)\n",
        "        subfolders.extend(sf)\n",
        "        datafiles.extend(f)\n",
        "    return subfolders, datafiles\n",
        "\n",
        "\n",
        "subfolders, datafiles = run_fast_scandir('/content/drive/MyDrive/files', [\".edf\"])\n",
        "#subfolders, eventfiles = run_fast_scandir('/content/drive/MyDrive/files', [\".event\"])\n",
        "\n",
        "subfolders.sort()\n",
        "datafiles.sort()\n",
        "print(subfolders[:3])\n",
        "print(datafiles[:3])\n"
      ],
      "metadata": {
        "colab": {
          "base_uri": "https://localhost:8080/"
        },
        "id": "cClunDBpU1Yk",
        "outputId": "14805ddf-ce5c-4a85-caa4-649beab96fd6"
      },
      "execution_count": 114,
      "outputs": [
        {
          "output_type": "stream",
          "name": "stdout",
          "text": [
            "['/content/drive/MyDrive/files/S001', '/content/drive/MyDrive/files/S002', '/content/drive/MyDrive/files/S003']\n",
            "['/content/drive/MyDrive/files/S001/S001R01.edf', '/content/drive/MyDrive/files/S001/S001R02.edf', '/content/drive/MyDrive/files/S001/S001R03.edf']\n"
          ]
        }
      ]
    },
    {
      "cell_type": "markdown",
      "source": [
        "## **Biblioteca MNE: https://mne.tools/stable/index.html**\n"
      ],
      "metadata": {
        "id": "jnKG2YPOVxEW"
      }
    },
    {
      "cell_type": "code",
      "source": [
        "!pip install mne\n",
        "import mne\n",
        "import numpy as np"
      ],
      "metadata": {
        "id": "bkkq8TGnV35d",
        "colab": {
          "base_uri": "https://localhost:8080/"
        },
        "outputId": "e7eb7842-a9f7-4b77-d227-15447f522b41"
      },
      "execution_count": 115,
      "outputs": [
        {
          "output_type": "stream",
          "name": "stdout",
          "text": [
            "Looking in indexes: https://pypi.org/simple, https://us-python.pkg.dev/colab-wheels/public/simple/\n",
            "Requirement already satisfied: mne in /usr/local/lib/python3.9/dist-packages (1.3.1)\n",
            "Requirement already satisfied: numpy>=1.15.4 in /usr/local/lib/python3.9/dist-packages (from mne) (1.22.4)\n",
            "Requirement already satisfied: tqdm in /usr/local/lib/python3.9/dist-packages (from mne) (4.65.0)\n",
            "Requirement already satisfied: scipy>=1.1.0 in /usr/local/lib/python3.9/dist-packages (from mne) (1.10.1)\n",
            "Requirement already satisfied: decorator in /usr/local/lib/python3.9/dist-packages (from mne) (4.4.2)\n",
            "Requirement already satisfied: packaging in /usr/local/lib/python3.9/dist-packages (from mne) (23.0)\n",
            "Requirement already satisfied: jinja2 in /usr/local/lib/python3.9/dist-packages (from mne) (3.1.2)\n",
            "Requirement already satisfied: pooch>=1.5 in /usr/local/lib/python3.9/dist-packages (from mne) (1.6.0)\n",
            "Requirement already satisfied: matplotlib in /usr/local/lib/python3.9/dist-packages (from mne) (3.7.1)\n",
            "Requirement already satisfied: requests>=2.19.0 in /usr/local/lib/python3.9/dist-packages (from pooch>=1.5->mne) (2.27.1)\n",
            "Requirement already satisfied: appdirs>=1.3.0 in /usr/local/lib/python3.9/dist-packages (from pooch>=1.5->mne) (1.4.4)\n",
            "Requirement already satisfied: MarkupSafe>=2.0 in /usr/local/lib/python3.9/dist-packages (from jinja2->mne) (2.1.2)\n",
            "Requirement already satisfied: fonttools>=4.22.0 in /usr/local/lib/python3.9/dist-packages (from matplotlib->mne) (4.39.3)\n",
            "Requirement already satisfied: contourpy>=1.0.1 in /usr/local/lib/python3.9/dist-packages (from matplotlib->mne) (1.0.7)\n",
            "Requirement already satisfied: pyparsing>=2.3.1 in /usr/local/lib/python3.9/dist-packages (from matplotlib->mne) (3.0.9)\n",
            "Requirement already satisfied: python-dateutil>=2.7 in /usr/local/lib/python3.9/dist-packages (from matplotlib->mne) (2.8.2)\n",
            "Requirement already satisfied: pillow>=6.2.0 in /usr/local/lib/python3.9/dist-packages (from matplotlib->mne) (8.4.0)\n",
            "Requirement already satisfied: importlib-resources>=3.2.0 in /usr/local/lib/python3.9/dist-packages (from matplotlib->mne) (5.12.0)\n",
            "Requirement already satisfied: kiwisolver>=1.0.1 in /usr/local/lib/python3.9/dist-packages (from matplotlib->mne) (1.4.4)\n",
            "Requirement already satisfied: cycler>=0.10 in /usr/local/lib/python3.9/dist-packages (from matplotlib->mne) (0.11.0)\n",
            "Requirement already satisfied: zipp>=3.1.0 in /usr/local/lib/python3.9/dist-packages (from importlib-resources>=3.2.0->matplotlib->mne) (3.15.0)\n",
            "Requirement already satisfied: six>=1.5 in /usr/local/lib/python3.9/dist-packages (from python-dateutil>=2.7->matplotlib->mne) (1.16.0)\n",
            "Requirement already satisfied: charset-normalizer~=2.0.0 in /usr/local/lib/python3.9/dist-packages (from requests>=2.19.0->pooch>=1.5->mne) (2.0.12)\n",
            "Requirement already satisfied: urllib3<1.27,>=1.21.1 in /usr/local/lib/python3.9/dist-packages (from requests>=2.19.0->pooch>=1.5->mne) (1.26.15)\n",
            "Requirement already satisfied: idna<4,>=2.5 in /usr/local/lib/python3.9/dist-packages (from requests>=2.19.0->pooch>=1.5->mne) (3.4)\n",
            "Requirement already satisfied: certifi>=2017.4.17 in /usr/local/lib/python3.9/dist-packages (from requests>=2.19.0->pooch>=1.5->mne) (2022.12.7)\n"
          ]
        }
      ]
    },
    {
      "cell_type": "markdown",
      "source": [
        "## **Desenhar filtro passa-banda**"
      ],
      "metadata": {
        "id": "hZ_ATUtRCaTb"
      }
    },
    {
      "cell_type": "code",
      "source": [
        "mne.set_log_level('INFO') #  Suprimir os logs das funções da biblioteca/ it can be either DEBUG, INFO, WARNING, ERROR, or CRITICAL\n",
        "\n",
        "fmin = 8.\n",
        "fmax = 30.\n",
        "filter_design = 'firwin2'\n",
        "ska = 'edge'\n",
        "\n",
        "raw = mne.io.read_raw_edf(datafiles[0], preload = False)\n",
        "channels = raw.ch_names\n",
        "\n",
        "filter_params = mne.filter.create_filter(raw.get_data(), raw.info['sfreq'],l_freq=fmin, h_freq=fmax, fir_design = filter_design) # Criar filtro. É preciso dados como parâmetro\n",
        "mne.viz.plot_filter(filter_params, raw.info['sfreq'], flim=(3, 60)) # Plot do filtro\n",
        "\n",
        "mne.set_log_level('WARNING')"
      ],
      "metadata": {
        "colab": {
          "base_uri": "https://localhost:8080/",
          "height": 778
        },
        "id": "RgJ03FC7CZ0H",
        "outputId": "b5e07446-641d-408f-c97b-c7f1347a65d0"
      },
      "execution_count": 134,
      "outputs": [
        {
          "output_type": "stream",
          "name": "stdout",
          "text": [
            "Extracting EDF parameters from /content/drive/MyDrive/files/S001/S001R01.edf...\n",
            "EDF file detected\n",
            "Setting channel info structure...\n",
            "Creating raw.info structure...\n",
            "Setting up band-pass filter from 8 - 30 Hz\n",
            "\n",
            "FIR filter parameters\n",
            "---------------------\n",
            "Designing a one-pass, zero-phase, non-causal bandpass filter:\n",
            "- Windowed frequency-domain design (firwin2) method\n",
            "- Hamming window\n",
            "- Lower passband edge: 8.00\n",
            "- Lower transition bandwidth: 2.00 Hz (-6 dB cutoff frequency: 7.00 Hz)\n",
            "- Upper passband edge: 30.00 Hz\n",
            "- Upper transition bandwidth: 7.50 Hz (-6 dB cutoff frequency: 33.75 Hz)\n",
            "- Filter length: 529 samples (3.306 sec)\n",
            "\n"
          ]
        },
        {
          "output_type": "display_data",
          "data": {
            "text/plain": [
              "<Figure size 640x480 with 3 Axes>"
            ],
            "image/png": "[encoded data removed]"
          },
          "metadata": {}
        }
      ]
    },
    {
      "cell_type": "markdown",
      "source": [
        "* Não há **delay** no filtro, ou seja, a fase do sinal em todas as frequências permance a mesma. Isto refere-se ao facto de certos filtros provocarem pequenos desvios na fase do sinal, o que levaria a que o instante em que é dada a 'cue' visual para o participante mover determinado membro deixasse de ficar sincronizado com o sinal do EEG, podendo interferir com as janelas de tempo das features de interesse.\n",
        "\n",
        "* Outro aspeto importante é o filtro ser **FIR** e não **IIR**. Os filtros **IIR**, apesar de apresentarem bandas de transição inferiores, isto é, a transição entre as frequências que se querem manter e as frequências que se querem retirar ser mais íngreme, estes também são mais instáveis que os filtros **FIR**. Mais importante ainda, os filtros **IIR** apresentam desvios de fase não lineares, ou seja, a mudança de fase não é a mesma em todas as frequências, provocando desvios no sinal que são difícies de controlar. Já nos filtro **FIR**, o desvio na fase é linear sendo possível compensá-lo e anulá-lo muito mais facilmente, sendo computacionalmente mais eficiente fazê-lo e com erro nulo sabendo o valor deste desvio. Isto geralmente é feito automaticamente.\n",
        "\n",
        "* O *filter_desing* é o *firwin* e não *firwin2* porque o primeiro apresenta menos amostras e possui um resultado quase idêntico. Isto será importante durante o processamento em tempo real dos nossos sinais."
      ],
      "metadata": {
        "id": "d4uSlQsDz3zw"
      }
    },
    {
      "cell_type": "markdown",
      "source": [
        "## **Ler dados e separar/agrupar os blocos de EEG consoante o tipo/classe de movimento**"
      ],
      "metadata": {
        "id": "0wI6hZBp1c5w"
      }
    },
    {
      "cell_type": "markdown",
      "source": [
        "**Descrição dos eventos da base de dados:**\n",
        "\n",
        "Each annotation includes one of three codes (T0, T1, or T2):\n",
        "\n",
        "- T0 corresponds to rest\n",
        "- T1 corresponds to onset of motion (real or imagined) of the left fist (in runs 3, 4, 7, 8, 11, and 12) both fists and (in runs 5, 6, 9, 10, 13, and 14)\n",
        "- T2 corresponds to onset of motion (real or imagined) of the right fist (in runs 3, 4, 7, 8, 11, and 12) and both feet (in runs 5, 6, 9, 10, 13, and 14)"
      ],
      "metadata": {
        "id": "uEHVVZG8e9ue"
      }
    },
    {
      "cell_type": "code",
      "source": [
        "def check_event_count(event_data):\n",
        "\n",
        "  '''\n",
        "  \n",
        "  Função que:\n",
        "  - Faz prints do número de trials/blocos de cada classe de movimento. \n",
        "\n",
        "  ---------------------\n",
        "  Input:\n",
        "  - event_data: Objeto com todos os blocos de dados\n",
        "\n",
        "  '''\n",
        "\n",
        "  print(\"Rest: \", event_data[\"rest\"].__len__())\n",
        "  print(\"Right Fist: \", event_data[\"right_fist\"].__len__())\n",
        "  print(\"Left Fist: \", event_data[\"left_fist\"].__len__())\n",
        "  print(\"Both Fists: \", event_data[\"both_fists\"].__len__())\n",
        "  print(\"Both Feet: \", event_data[\"both_feet\"].__len__())"
      ],
      "metadata": {
        "id": "DGr5U_Cae06S"
      },
      "execution_count": 117,
      "outputs": []
    },
    {
      "cell_type": "code",
      "source": [
        "''' Commit \"Test/Train split: 84144ec\" tem todo o código com os prints e plots desta função relacionados com os eventos'''\n",
        "\n",
        "def load_subject_data(subject, datafiles, tstart, tstop):\n",
        "\n",
        "  '''\n",
        "\n",
        "  Função que:\n",
        "  - Carrega todos os dados contínuos de um participante da base de dados.\n",
        "  - Filtra os dados contínuos.\n",
        "  - Reatribui as labels para separar melhor as 5 classes de EEG da base de dados.\n",
        "  - Agrupa e concatena os blocos dados dos vários trials (bloco com cerca de 4.2s de dados que \n",
        "  corresponde à execução de uma classe de movimento) de ficheiros \n",
        "  diferentes a partir das novas labels.\n",
        "  - Segmenta os dados \n",
        "\n",
        "  ---------------------\n",
        "  Input:\n",
        "  subject: Caminho para o diretório onde estão todos os ficheiros de um participante \n",
        "  datafiles: Caminhos de todos os ficheiros edf (todos os participantes) da base de dados\n",
        "  tstart: Instante no tempo (s) da primeira amostra do segmento de um bloco a ser analisado\n",
        "  tstop: Instante no tempo (s) da última amostra do segmento de um bloco a ser analisado\n",
        "  \n",
        "  ---------------------\n",
        "  Output:\n",
        "  subject_epochs: Objeto com todos os blocos de dados concatenados e com toda a informção relativamente\n",
        "  aos eventos de cada classe\n",
        "  '''\n",
        "\n",
        "  trials = []\n",
        "  for trial in datafiles: \n",
        "    if subject in trial: \n",
        "      trials.append(trial)\n",
        "  \n",
        "  print(\"Ficheiros a ler: \", trials)\n",
        "  \n",
        "  all_trials = [] # Variável com todos os blocos\n",
        "  \n",
        "  for count, trial  in enumerate(trials):\n",
        "    if count > 1: # Avança os dois primeiros trials correspondentes ao rest\n",
        "      raw_data = mne.io.read_raw_edf(trial, preload = True) # Dados EEG para um trial específico. 'Preload=True' serve para colocar o ficheiro na memória e não apenas referenciá-lo no diretório\n",
        "      \n",
        "      filtered_data = raw_data.copy().filter(fmin, fmax, fir_design=filter_design, skip_by_annotation=ska) # Filtrar os dados\n",
        "\n",
        "      ch_names = filtered_data.ch_names # Elétrodos\n",
        "      fs =  filtered_data.info.get('sfreq') # Frequência de amostragem\n",
        "      annotations = filtered_data.annotations # Variável que contém os dados no tempo relativos aos blocos de movimentos executados\n",
        "      \n",
        "      trial_type1 = [3, 4, 7, 8, 11, 12]\n",
        "      trial_type2 = [5, 6, 9, 10, 13, 14]\n",
        "\n",
        "      # Atribuição das labels corretas aos eventos de cada trial\n",
        "\n",
        "      trial_number = int(trial.split('.')[0][-2:]) # De 1 a 14; [0] corresponde à primeira parte da string original;\n",
        "      print(\"Trial lido: \",trial_number)\n",
        "      if trial_number in trial_type1:\n",
        "        event_ids = {'T0': 1, 'T1': 2, 'T2': 3} # Dicionário com os ids dos eventos de acordo com a descrição a laranja ^^\n",
        "        epoch_event_ids = {\"rest/block\": 1, \"left_fist/block\": 2, \"right_fist/block\": 3}\n",
        "      elif trial_number in trial_type2:\n",
        "        event_ids = {'T0': 1, 'T1': 4, 'T2': 5}\n",
        "        epoch_event_ids = {\"rest/block\": 1, \"both_fists/block\": 4,\"both_feet/block\": 5}\n",
        "      else:\n",
        "        event_ids = {'T0': 1} # Dois primeiros trials de EEG\n",
        "\n",
        "      events = mne.events_from_annotations(filtered_data, event_id = event_ids) # Variável eventos: Retorna 3 colunas [Indice da amostra onde começa o bloco, Trigger, Tipo de movimento (label)]\n",
        "      \n",
        "      # Agrupamento dos blocos do mesmo id (epoching)\n",
        "\n",
        "      epochs = mne.Epochs(filtered_data, events[0], event_id = epoch_event_ids, tmin = tstart, tmax = tstop, detrend = 1, baseline = None, preload = True)\n",
        "      all_trials.append(epochs)\n",
        "\n",
        "  # Concatenação de todos os blocos\n",
        "\n",
        "  subject_epochs = mne.concatenate_epochs(all_trials, add_offset = True, on_mismatch = 'raise')\n",
        "\n",
        "  return subject_epochs\n",
        "\n",
        "subject_epochs = load_subject_data(subfolders[61],datafiles, 0.5,3)\n"
      ],
      "metadata": {
        "id": "DViPAXWcXPfu",
        "colab": {
          "base_uri": "https://localhost:8080/"
        },
        "outputId": "a737eb34-64b2-4a29-eb2e-17db917506c1"
      },
      "execution_count": 135,
      "outputs": [
        {
          "output_type": "stream",
          "name": "stdout",
          "text": [
            "Ficheiros a ler:  ['/content/drive/MyDrive/files/S062/S062R01.edf', '/content/drive/MyDrive/files/S062/S062R02.edf', '/content/drive/MyDrive/files/S062/S062R03.edf', '/content/drive/MyDrive/files/S062/S062R04.edf', '/content/drive/MyDrive/files/S062/S062R05.edf', '/content/drive/MyDrive/files/S062/S062R06.edf', '/content/drive/MyDrive/files/S062/S062R07.edf', '/content/drive/MyDrive/files/S062/S062R08.edf', '/content/drive/MyDrive/files/S062/S062R09.edf', '/content/drive/MyDrive/files/S062/S062R10.edf', '/content/drive/MyDrive/files/S062/S062R11.edf', '/content/drive/MyDrive/files/S062/S062R12.edf', '/content/drive/MyDrive/files/S062/S062R13.edf', '/content/drive/MyDrive/files/S062/S062R14.edf']\n",
            "Trial lido:  3\n",
            "Trial lido:  4\n",
            "Trial lido:  5\n",
            "Trial lido:  6\n",
            "Trial lido:  7\n",
            "Trial lido:  8\n",
            "Trial lido:  9\n",
            "Trial lido:  10\n",
            "Trial lido:  11\n",
            "Trial lido:  12\n",
            "Trial lido:  13\n",
            "Trial lido:  14\n"
          ]
        },
        {
          "output_type": "stream",
          "name": "stderr",
          "text": [
            "<ipython-input-135-75158fce27b0>:73: RuntimeWarning: Concatenation of Annotations within Epochs is not supported yet. All annotations will be dropped.\n",
            "  subject_epochs = mne.concatenate_epochs(all_trials, add_offset = True, on_mismatch = 'raise')\n"
          ]
        }
      ]
    },
    {
      "cell_type": "markdown",
      "source": [
        "* A filtragem é preferível fazer nos dados contínuos e não depois da segmentação. Isto tem a ver com o janelamento dos filtros, o qual neste caso usa a janela de **Hamming**. Isto é usado para fazer o *tappering* do sinal, ou seja, envolver o sinal numa janela para que as pontas fiquem a 0.\n",
        "\n",
        "* Se isto não acontecesse, os filtros e, de forma geral, todos os métodos convolucionais de processamento de sinal (fft, wavelets, etc) provocariam artefactos enormes nas pontas do sinal.\n",
        "\n",
        "* Os sinais sendo filtrados no segmento contínuo, a janela afeta maioritariamente a magnitude dos sinais da ponta, os quais são todos da classe redundante (nesto caso) rest. "
      ],
      "metadata": {
        "id": "nPSBYX3X8pb-"
      }
    },
    {
      "cell_type": "code",
      "source": [
        "# Equaliza o nº de trials em todas as classes. A classe rest tinha muitos mais trials por exemplo.\n",
        "# É importante que haja o mesmo nº de trials para cada classe durante a classificação\n",
        "subject_epochs.equalize_event_counts() \n",
        "\n",
        "print(\"\\nEqualização de eventos: \")\n",
        "check_event_count(subject_epochs)\n",
        "print(\"\\n\")\n",
        "\n",
        "# Seleção de elétrodos\n",
        "chan = mne.pick_channels(channels, include = ['C3..','Cz..','C4..'])\n",
        "print(\"Indices: \", chan)\n",
        "\n",
        "#dir(subject_epochs)"
      ],
      "metadata": {
        "id": "iprWParZgPjG",
        "colab": {
          "base_uri": "https://localhost:8080/"
        },
        "outputId": "db1e6a0b-c262-4671-fad4-bc0285966840"
      },
      "execution_count": 119,
      "outputs": [
        {
          "output_type": "stream",
          "name": "stdout",
          "text": [
            "\n",
            "Equalização de eventos: \n",
            "Rest:  44\n",
            "Right Fist:  44\n",
            "Left Fist:  44\n",
            "Both Fists:  44\n",
            "Both Feet:  44\n",
            "\n",
            "\n",
            "Indices:  [ 8 10 12]\n"
          ]
        }
      ]
    },
    {
      "cell_type": "code",
      "source": [
        "print(\"Condições: \",subject_epochs.event_id)\n",
        "print(\"\\nBlocos: \",subject_epochs.events)\n",
        "subject_epochs[\"right_fist\"].plot_image(picks=[chan[0]])"
      ],
      "metadata": {
        "id": "NbjAjsE_ifyZ"
      },
      "execution_count": null,
      "outputs": []
    },
    {
      "cell_type": "code",
      "source": [
        "print(\"Dados de um sujeito [Trials, Elétrodos, Amostras] =\",np.shape(subject_epochs.get_data()))"
      ],
      "metadata": {
        "colab": {
          "base_uri": "https://localhost:8080/"
        },
        "id": "jh45CO4QMIBR",
        "outputId": "0cbb3f84-292f-485a-83f6-34c23ba77883"
      },
      "execution_count": 122,
      "outputs": [
        {
          "output_type": "stream",
          "name": "stdout",
          "text": [
            "Dados de um sujeito [Trials, Elétrodos, Amostras] = (220, 64, 401)\n"
          ]
        }
      ]
    },
    {
      "cell_type": "markdown",
      "source": [
        "## **Dados Train/Test**"
      ],
      "metadata": {
        "id": "rxMlNS8QfJC8"
      }
    },
    {
      "cell_type": "code",
      "source": [
        "# Tamanho dos dados\n",
        "\n",
        "classes = subject_epochs.event_id\n",
        "n_trials, n_channels, n_samples = np.shape(subject_epochs)\n",
        "\n",
        "# Split Test/Train\n",
        "\n",
        "def split_EEG(subject_EEG, n_trials, classes, percent_train=0.8):\n",
        "\n",
        "  n_train = round((n_trials/len(classes)) * percent_train)\n",
        "  n_test = int((n_trials/len(classes)) - n_train)\n",
        "\n",
        "  print(\"Nº de trials: \", n_trials)\n",
        "  print(\"Nº de trials para treinar: \", n_train)\n",
        "  print(\"Nº de trials para teste: \", n_test)\n",
        "\n",
        "  epochs_train = []\n",
        "  epochs_test = []\n",
        "\n",
        "  for class_key, _ in classes.items():\n",
        "    epochs_train.append(subject_EEG[class_key][:n_train])\n",
        "    epochs_test.append(subject_EEG[class_key][n_train:n_train+n_test])\n",
        "  \n",
        "  epochs_train = mne.concatenate_epochs(epochs_train, add_offset = True, on_mismatch = 'raise')\n",
        "  epochs_test = mne.concatenate_epochs(epochs_test, add_offset = True, on_mismatch = 'raise')\n",
        "\n",
        "  return epochs_train, epochs_test\n",
        "\n",
        "epochs_train, epochs_test = split_EEG(subject_epochs, n_trials, classes, percent_train=0.8)\n",
        "\n",
        "print(\"Split: \")\n",
        "print(\"Treino: \", np.shape(epochs_train))\n",
        "print(\"Teste: \", np.shape(epochs_test))\n",
        "print(\"\")\n",
        "print(\"Verificar se as condições continuam equalizadas: \")\n",
        "print(\"Treino: \")\n",
        "check_event_count(epochs_train)\n",
        "print(\"\\n\")\n",
        "print(\"Test: \")\n",
        "check_event_count(epochs_test)\n",
        "\n"
      ],
      "metadata": {
        "colab": {
          "base_uri": "https://localhost:8080/"
        },
        "id": "7ydynh5lfIms",
        "outputId": "fc4c0523-75b0-4574-a9f9-6e7c731c47bd"
      },
      "execution_count": 123,
      "outputs": [
        {
          "output_type": "stream",
          "name": "stdout",
          "text": [
            "Nº de trials:  220\n",
            "Nº de trials para treinar:  35\n",
            "Nº de trials para teste:  9\n",
            "Split: \n",
            "Treino:  (175, 64, 401)\n",
            "Teste:  (45, 64, 401)\n",
            "\n",
            "Verificar se as condições continuam equalizadas: \n",
            "Treino: \n",
            "Rest:  35\n",
            "Right Fist:  35\n",
            "Left Fist:  35\n",
            "Both Fists:  35\n",
            "Both Feet:  35\n",
            "\n",
            "\n",
            "Test: \n",
            "Rest:  9\n",
            "Right Fist:  9\n",
            "Left Fist:  9\n",
            "Both Fists:  9\n",
            "Both Feet:  9\n"
          ]
        }
      ]
    },
    {
      "cell_type": "markdown",
      "source": [
        "✅"
      ],
      "metadata": {
        "id": "6qMrj_J0gJf3"
      }
    },
    {
      "cell_type": "markdown",
      "source": [
        "## **Obtenção do filtro espacial (unmixing matrix) a partir do algoritmo Common Spatial Patterns (CSP)**\n",
        "\n",
        "* Algoritmo aplicado de raiz"
      ],
      "metadata": {
        "id": "v9umIYDW9gzN"
      }
    },
    {
      "cell_type": "code",
      "source": [
        "import numpy as np\n",
        "from numpy import linalg\n",
        "from scipy.linalg import sqrtm\n",
        "from scipy.linalg import inv\n",
        "\n",
        "# Matrizes das covariâncias:\n",
        "\n",
        "def covariances(epoched_data):\n",
        "\n",
        "  '''\n",
        "  Cálculo das matrizes de covariância para cada classe\n",
        "  '''\n",
        "\n",
        "  classes = epoched_data.event_id\n",
        "  n_trials, n_channels, n_samples = np.shape(epoched_data)\n",
        "  n_trials = int(n_trials/len(classes))\n",
        "  Trials_convs = np.zeros((n_trials, n_channels, n_channels))\n",
        "  Class_convs = np.zeros((len(classes), n_channels, n_channels)) \n",
        "  # Pré alocação da variável 'convs'. Isto é boa prática fazer antes de qualquer ciclo para reduzir o tempo de processamento pré-alocando o array na memória.\n",
        "  \n",
        "  for mi_class, id in classes.items(): # Iteração de um dicionário\n",
        "  \n",
        "    print(\"Classe: \", mi_class)\n",
        "    Xc = epoched_data[mi_class].get_data()\n",
        "    for trial in range(n_trials):\n",
        "      Trials_convs[trial,:,:] = (Xc[trial,:,:] @ Xc[trial,:,:].T) / (np.trace (Xc[trial,:,:] @ Xc[trial,:,:].T)) # Cálculo das Covariâncias com normalização ap aprtir do traço da matriz\n",
        "    Class_convs[id-1,:,:] = np.mean(Trials_convs, axis = 0) # Média dos trials da mesma classe\n",
        "    \n",
        "  return Class_convs\n",
        "\n",
        "# Whitening da matriz, ou seja, transformação que permite com que a matriz tenha a mesma covariância da matriz Identidade (I), \n",
        "# logo covariâncias de 0 entre todos os pares:\n",
        "\n",
        "def decompose_cov(avg_cov):\n",
        "\n",
        "    λ, V = np.linalg.eig(avg_cov) # λ são o eigenvalues e V os eigenvectors\n",
        "    λ_desc = np.sort(λ)[::-1] \n",
        "    idx_desc = np.argsort(λ)[::-1] \n",
        "    V_desc = V[:, idx_desc] \n",
        "    λ_desc = np.diag(λ_desc) \n",
        "    \n",
        "    return λ_desc, V_desc\n",
        "\n",
        "def whitening(λ_desc, V_desc):\n",
        "\n",
        "    λ_desc_sqr = sqrtm(inv(λ_desc))\n",
        "    P = (λ_desc_sqr) @ (V_desc.T)\n",
        "    \n",
        "    return P\n",
        "\n",
        "Class_convs = covariances(epochs_train)\n",
        "Avg_convs = Class_convs.sum(axis = 0)\n",
        "λ_desc, V_desc = decompose_cov(Avg_convs)\n",
        "P = whitening(λ_desc, V_desc)\n",
        "\n",
        "# Matriz S que contém os eigenvectors que maximizam a variância do EEG (freq) numa classe e minimiza noutra:\n",
        "\n",
        "def compute_S(avg_Cov, white):\n",
        "    \n",
        "    S = white @ avg_Cov @ white.T\n",
        " \n",
        "    return S\n",
        "\n",
        "def decompose_S(S_one_class, order='d'):\n",
        "  \n",
        "    λ, B = np.linalg.eig(S_one_class)\n",
        "    \n",
        "    if order == 'a': # ascending\n",
        "        idx = λ.argsort() \n",
        "    elif order == 'd': # descending\n",
        "        idx = λ.argsort()[::-1] \n",
        "    else:\n",
        "        print('Wrong order input')\n",
        "    \n",
        "    λ = λ[idx]\n",
        "    B = B[:, idx]\n",
        "    \n",
        "    return B, λ \n",
        "\n",
        "# One-vs-the-rest CSP, ou seja, uma classe contra a contribuição conjunta de todas as outras:\n",
        "# Filtro espacial (Matriz de projeção):\n",
        "\n",
        "  # B_one_class = np.zeros( (len(classes),len(subject_epochs.get_channel_types())) )\n",
        "  # B_the_rest_classes = np.zeros( (len(classes),len(subject_epochs.get_channel_types())) )\n",
        "\n",
        "def spatial_filter(B, P):\n",
        "\n",
        "    return (B.T @ P)\n",
        "\n",
        "W = np.zeros( (len(classes), n_channels, n_channels) )\n",
        "\n",
        "for _, id in classes.items(): \n",
        "\n",
        "  one = compute_S(Class_convs[id-1,:,:], P)\n",
        "  the_rest = compute_S(  np.sum(Class_convs[:(id-1),:,:], axis = 0) + np.sum(Class_convs[id:,:,:], axis = 0)  , P)\n",
        "\n",
        "  λ_one, B_one = decompose_S(one, 'd')\n",
        "  λ_the_rest, B_the_rest = decompose_S(the_rest, 'a')\n",
        "\n",
        "  #B_one_class[id-1,:] = B_one\n",
        "  #B_the_rest_classes[id-1,:] = B_the_rest\n",
        "  \n",
        "  W[id-1,:,:] = spatial_filter(λ_one, P) \n",
        "\n",
        "  #print(\"Valores antes: \", Class_convs[:(id-1),0,0])\n",
        "  #print(\"Valor atual: \", Class_convs[id-1,0,0])\n",
        "  #print(\"Valores depois: \", Class_convs[id:,0,0])\n",
        "  print(\"Eigenvalues: \", B_one + B_the_rest)\n",
        " \n"
      ],
      "metadata": {
        "colab": {
          "base_uri": "https://localhost:8080/"
        },
        "id": "YwsOQIcvR4tk",
        "outputId": "f8e2bc49-a354-4f24-f224-ae84cf58cd92"
      },
      "execution_count": 124,
      "outputs": [
        {
          "output_type": "stream",
          "name": "stdout",
          "text": [
            "Classe:  rest/block\n",
            "Classe:  left_fist/block\n",
            "Classe:  right_fist/block\n",
            "Classe:  both_fists/block\n",
            "Classe:  both_feet/block\n",
            "Eigenvalues:  [1. 1. 1. 1. 1. 1. 1. 1. 1. 1. 1. 1. 1. 1. 1. 1. 1. 1. 1. 1. 1. 1. 1. 1.\n",
            " 1. 1. 1. 1. 1. 1. 1. 1. 1. 1. 1. 1. 1. 1. 1. 1. 1. 1. 1. 1. 1. 1. 1. 1.\n",
            " 1. 1. 1. 1. 1. 1. 1. 1. 1. 1. 1. 1. 1. 1. 1. 1.]\n",
            "Eigenvalues:  [1. 1. 1. 1. 1. 1. 1. 1. 1. 1. 1. 1. 1. 1. 1. 1. 1. 1. 1. 1. 1. 1. 1. 1.\n",
            " 1. 1. 1. 1. 1. 1. 1. 1. 1. 1. 1. 1. 1. 1. 1. 1. 1. 1. 1. 1. 1. 1. 1. 1.\n",
            " 1. 1. 1. 1. 1. 1. 1. 1. 1. 1. 1. 1. 1. 1. 1. 1.]\n",
            "Eigenvalues:  [1. 1. 1. 1. 1. 1. 1. 1. 1. 1. 1. 1. 1. 1. 1. 1. 1. 1. 1. 1. 1. 1. 1. 1.\n",
            " 1. 1. 1. 1. 1. 1. 1. 1. 1. 1. 1. 1. 1. 1. 1. 1. 1. 1. 1. 1. 1. 1. 1. 1.\n",
            " 1. 1. 1. 1. 1. 1. 1. 1. 1. 1. 1. 1. 1. 1. 1. 1.]\n",
            "Eigenvalues:  [1. 1. 1. 1. 1. 1. 1. 1. 1. 1. 1. 1. 1. 1. 1. 1. 1. 1. 1. 1. 1. 1. 1. 1.\n",
            " 1. 1. 1. 1. 1. 1. 1. 1. 1. 1. 1. 1. 1. 1. 1. 1. 1. 1. 1. 1. 1. 1. 1. 1.\n",
            " 1. 1. 1. 1. 1. 1. 1. 1. 1. 1. 1. 1. 1. 1. 1. 1.]\n",
            "Eigenvalues:  [1. 1. 1. 1. 1. 1. 1. 1. 1. 1. 1. 1. 1. 1. 1. 1. 1. 1. 1. 1. 1. 1. 1. 1.\n",
            " 1. 1. 1. 1. 1. 1. 1. 1. 1. 1. 1. 1. 1. 1. 1. 1. 1. 1. 1. 1. 1. 1. 1. 1.\n",
            " 1. 1. 1. 1. 1. 1. 1. 1. 1. 1. 1. 1. 1. 1. 1. 1.]\n"
          ]
        }
      ]
    },
    {
      "cell_type": "markdown",
      "source": [
        "* Os eigenvalues deram todos 1, logo está ✅\n",
        "\n"
      ],
      "metadata": {
        "id": "-_-4-3nwXW_H"
      }
    },
    {
      "cell_type": "markdown",
      "source": [
        "## **Filtrar espacialmente o EEG com a matriz W (unmixing matrix) para extração de features**"
      ],
      "metadata": {
        "id": "i6-9D7pnINVV"
      }
    },
    {
      "cell_type": "code",
      "source": [
        "print(np.shape(np.squeeze(epochs_train[0].get_data())))\n",
        "print((epochs_train.events[0]))\n",
        "print(np.shape(W))\n",
        "print(np.shape(epochs_train[\"right_fist\"]))"
      ],
      "metadata": {
        "colab": {
          "base_uri": "https://localhost:8080/"
        },
        "id": "vVCjKPia0gZP",
        "outputId": "8b576008-2535-4730-ba0c-2f733b7196b2"
      },
      "execution_count": 125,
      "outputs": [
        {
          "output_type": "stream",
          "name": "stdout",
          "text": [
            "(64, 401)\n",
            "[44832     0     1]\n",
            "(5, 64, 64)\n",
            "(35, 64, 401)\n"
          ]
        }
      ]
    },
    {
      "cell_type": "code",
      "source": [
        "n_comp = 5\n",
        "\n",
        "def spatially_filter_EEG(W, EEG, n_comp):\n",
        "\n",
        "    Z = []\n",
        "    \n",
        "    W = np.delete(W, np.s_[n_comp:-n_comp:], 0)\n",
        "\n",
        "    for trial in range(len(EEG.events)):\n",
        "      Z.append( W @ np.squeeze(EEG[trial].get_data()) )\n",
        "\n",
        "    return np.array(Z)\n",
        "\n",
        "def feat_vector(Z):\n",
        "    \n",
        "    feat = []\n",
        "    \n",
        "    for i in range(Z.shape[0]):\n",
        "        var = np.var(Z[i], ddof=1, axis=1)\n",
        "        varsum = np.sum(var)\n",
        "        \n",
        "        feat.append(np.log10(var/varsum))\n",
        "        \n",
        "    return np.array(feat)\n",
        "\n",
        "\n",
        "feat_classes_train = []\n",
        "feat_classes_test = []\n",
        "\n",
        "for mi_class, c_id in classes.items():\n",
        "  Z_aux_train = spatially_filter_EEG(W[c_id-1,:,:], epochs_train[mi_class], n_comp)\n",
        "  feat_classes_train.append(feat_vector(Z_aux_train)) \n",
        "\n",
        "  Z_aux_test = spatially_filter_EEG(W[c_id-1,:,:], epochs_test[mi_class], n_comp)\n",
        "  feat_classes_test.append(feat_vector(Z_aux_test)) \n",
        "\n",
        "print(np.shape(feat_classes_train))\n",
        "print(np.shape(feat_classes_test))"
      ],
      "metadata": {
        "id": "ZFg_kp__INBw",
        "colab": {
          "base_uri": "https://localhost:8080/"
        },
        "outputId": "01e3ad3e-bf5b-4017-c73f-c6a4c33171de"
      },
      "execution_count": 126,
      "outputs": [
        {
          "output_type": "stream",
          "name": "stdout",
          "text": [
            "(5, 35, 10)\n",
            "(5, 9, 10)\n"
          ]
        }
      ]
    },
    {
      "cell_type": "markdown",
      "source": [
        "## **Classificação**"
      ],
      "metadata": {
        "id": "9lEJIte1Fwm-"
      }
    },
    {
      "cell_type": "code",
      "source": [
        "X_train = np.reshape(feat_classes_train, (-1,n_comp * 2))\n",
        "X_test = np.reshape(feat_classes_test, (-1,n_comp * 2))\n",
        "\n",
        "y_train = epochs_train.events[:,2].reshape(-1,1)\n",
        "y_test = epochs_test.events[:,2].reshape(-1,1)\n",
        "\n",
        "train = np.concatenate((X_train,y_train), axis = 1)\n",
        "test = np.concatenate((X_test,y_test), axis = 1)\n",
        "\n",
        "np.random.shuffle(train)\n",
        "np.random.shuffle(test)\n",
        "\n",
        "from sklearn.discriminant_analysis import LinearDiscriminantAnalysis as LDA\n",
        "from sklearn.model_selection import cross_val_score\n",
        "\n",
        "# Assuming you have your feature vectors for train and test datasets in the \"train\" and \"test\" variables respectively, and the target classes in \"train_labels\"\n",
        "# Assuming train data and train labels are numpy arrays with shape (n_samples, n_features) and (n_samples, ), respectively\n",
        "\n",
        "# Create LDA classifier object\n",
        "clf = LDA()\n",
        "\n",
        "# Perform cross-validation on train data with LDA classifier\n",
        "scores = cross_val_score(clf, train[:,0:n_comp * 2], train[:,n_comp * 2], cv=10) # cv=5 means 5-fold cross-validation\n",
        "\n",
        "# Print the mean accuracy and standard deviation of the cross-validation scores\n",
        "print(\"Accuracy: %0.2f (+/- %0.2f)\" % (scores.mean(), scores.std() * 2))\n",
        "\n",
        "# Fit the LDA classifier on the entire train dataset\n",
        "clf.fit(train[:,0:n_comp * 2], train[:,n_comp * 2])\n",
        "\n",
        "# Predict the target classes for test dataset\n",
        "test_labels = clf.predict(test[:,0:n_comp * 2])"
      ],
      "metadata": {
        "colab": {
          "base_uri": "https://localhost:8080/"
        },
        "id": "rvMT0f2FF3nm",
        "outputId": "f553412f-0fb4-4a10-bf06-597cc2e6d628"
      },
      "execution_count": 127,
      "outputs": [
        {
          "output_type": "stream",
          "name": "stdout",
          "text": [
            "Accuracy: 0.91 (+/- 0.15)\n"
          ]
        }
      ]
    },
    {
      "cell_type": "code",
      "source": [
        "print(test_labels)\n",
        "print(test[:,n_comp * 2])\n",
        "print(test_labels==test[:,n_comp * 2])\n",
        "cer=0\n",
        "tut=0\n",
        "\n",
        "\n",
        "for i in range(0,len(test_labels)):\n",
        "  if test_labels[i]==test[i,n_comp * 2]:\n",
        "    cer+=1\n",
        "  tut+=1\n",
        "print(cer,tut)\n",
        "print(cer/tut * 100)\n"
      ],
      "metadata": {
        "colab": {
          "base_uri": "https://localhost:8080/"
        },
        "id": "2mBKdSmufC77",
        "outputId": "095d0c0c-35c7-4b2e-f907-1ad482bd574b"
      },
      "execution_count": 128,
      "outputs": [
        {
          "output_type": "stream",
          "name": "stdout",
          "text": [
            "[5. 5. 5. 1. 1. 2. 4. 4. 4. 4. 2. 5. 4. 4. 5. 1. 4. 5. 5. 4. 5. 5. 2. 2.\n",
            " 5. 5. 5. 2. 4. 3. 5. 1. 5. 1. 1. 1. 4. 2. 1. 5. 2. 1. 4. 2. 3.]\n",
            "[5. 3. 5. 1. 1. 2. 4. 4. 4. 4. 2. 5. 4. 4. 5. 1. 3. 5. 5. 4. 3. 3. 2. 2.\n",
            " 5. 5. 3. 2. 4. 3. 3. 1. 3. 1. 1. 1. 4. 2. 1. 5. 2. 1. 2. 2. 3.]\n",
            "[ True False  True  True  True  True  True  True  True  True  True  True\n",
            "  True  True  True  True False  True  True  True False False  True  True\n",
            "  True  True False  True  True  True False  True False  True  True  True\n",
            "  True  True  True  True  True  True False  True  True]\n",
            "37 45\n",
            "82.22222222222221\n"
          ]
        }
      ]
    },
    {
      "cell_type": "code",
      "source": [
        "from sklearn.metrics import confusion_matrix\n",
        "y_true = test[:,n_comp * 2]\n",
        "y_pred = test_labels\n",
        "C=confusion_matrix(y_true, y_pred)\n",
        "print(C)\n",
        "print(C / C.astype(np.float).sum(axis=1))\n"
      ],
      "metadata": {
        "colab": {
          "base_uri": "https://localhost:8080/"
        },
        "id": "X_rHIEJ1lrNn",
        "outputId": "8974e85e-bab5-4c3c-e29b-b050ed133110"
      },
      "execution_count": 129,
      "outputs": [
        {
          "output_type": "stream",
          "name": "stdout",
          "text": [
            "[[9 0 0 0 0]\n",
            " [0 8 0 1 0]\n",
            " [0 0 2 1 6]\n",
            " [0 0 0 9 0]\n",
            " [0 0 0 0 9]]\n",
            "[[1.         0.         0.         0.         0.        ]\n",
            " [0.         0.88888889 0.         0.11111111 0.        ]\n",
            " [0.         0.         0.22222222 0.11111111 0.66666667]\n",
            " [0.         0.         0.         1.         0.        ]\n",
            " [0.         0.         0.         0.         1.        ]]\n"
          ]
        },
        {
          "output_type": "stream",
          "name": "stderr",
          "text": [
            "<ipython-input-129-de99cb5b7e2f>:6: DeprecationWarning: `np.float` is a deprecated alias for the builtin `float`. To silence this warning, use `float` by itself. Doing this will not modify any behavior and is safe. If you specifically wanted the numpy scalar type, use `np.float64` here.\n",
            "Deprecated in NumPy 1.20; for more details and guidance: https://numpy.org/devdocs/release/1.20.0-notes.html#deprecations\n",
            "  print(C / C.astype(np.float).sum(axis=1))\n"
          ]
        }
      ]
    }
  ]
}