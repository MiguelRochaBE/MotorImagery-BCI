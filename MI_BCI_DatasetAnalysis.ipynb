{
  "nbformat": 4,
  "nbformat_minor": 0,
  "metadata": {
    "colab": {
      "provenance": [],
      "include_colab_link": true
    },
    "kernelspec": {
      "name": "python3",
      "display_name": "Python 3"
    },
    "language_info": {
      "name": "python"
    }
  },
  "cells": [
    {
      "cell_type": "markdown",
      "metadata": {
        "id": "view-in-github",
        "colab_type": "text"
      },
      "source": [
        "<a href=\"https://colab.research.google.com/github/MiguelRochaBE/MotorImagery-BCI/blob/master/MI_BCI_DatasetAnalysis.ipynb\" target=\"_parent\"><img src=\"https://colab.research.google.com/assets/colab-badge.svg\" alt=\"Open In Colab\"/></a>"
      ]
    },
    {
      "cell_type": "markdown",
      "source": [
        "## **Conexão ao Google Colab**"
      ],
      "metadata": {
        "id": "VrKyad_4ULIA"
      }
    },
    {
      "cell_type": "code",
      "execution_count": 3,
      "metadata": {
        "colab": {
          "base_uri": "https://localhost:8080/"
        },
        "id": "JhTDeScvTnWH",
        "outputId": "3cb9e0fb-9b77-49ca-c153-3b9f282f6425"
      },
      "outputs": [
        {
          "output_type": "stream",
          "name": "stdout",
          "text": [
            "Mounted at /content/drive\n"
          ]
        }
      ],
      "source": [
        "from google.colab import drive\n",
        "drive.mount('/content/drive', force_remount=True) "
      ]
    },
    {
      "cell_type": "markdown",
      "source": [
        "## **Extrair base de dados do ficheiro zip**\n",
        "\n",
        "Link: https://physionet.org/content/eegmmidb/1.0.0/"
      ],
      "metadata": {
        "id": "7hhzOCwEUcc5"
      }
    },
    {
      "cell_type": "code",
      "source": [
        "!unzip -u \"/content/drive/MyDrive/B(i)onitos/files.zip\" -d \"/content/drive/MyDrive\""
      ],
      "metadata": {
        "id": "UyPFvu1_Ubuo",
        "colab": {
          "base_uri": "https://localhost:8080/"
        },
        "outputId": "52436826-a699-4e39-d9bf-1ae6eea33927"
      },
      "execution_count": null,
      "outputs": [
        {
          "output_type": "stream",
          "name": "stdout",
          "text": [
            "unzip:  cannot find or open /content/drive/folders/1-AQ0e7zyb4ns3ZV7YGILoz95nTGsGBc8/files.zip, /content/drive/folders/1-AQ0e7zyb4ns3ZV7YGILoz95nTGsGBc8/files.zip.zip or /content/drive/folders/1-AQ0e7zyb4ns3ZV7YGILoz95nTGsGBc8/files.zip.ZIP.\n"
          ]
        }
      ]
    },
    {
      "cell_type": "markdown",
      "source": [
        "## **Listar todos os ficheiros da base de dados**"
      ],
      "metadata": {
        "id": "bgr4FISrU2J_"
      }
    },
    {
      "cell_type": "code",
      "source": [
        "import os\n",
        "\n",
        "def run_fast_scandir(dir, ext):    # dir: str, ext: list\n",
        "    subfolders, datafiles = [], []\n",
        "\n",
        "    for f in os.scandir(dir):\n",
        "        if f.is_dir():\n",
        "            subfolders.append(f.path)\n",
        "        if f.is_file():\n",
        "            if os.path.splitext(f.name)[1].lower() in ext:\n",
        "                datafiles.append(f.path)\n",
        "\n",
        "    for dir in list(subfolders):\n",
        "        sf, f = run_fast_scandir(dir, ext)\n",
        "        subfolders.extend(sf)\n",
        "        datafiles.extend(f)\n",
        "    return subfolders, datafiles\n",
        "\n",
        "\n",
        "subfolders, datafiles = run_fast_scandir('/content/drive/MyDrive/files', [\".edf\"])\n",
        "#subfolders, eventfiles = run_fast_scandir('/content/drive/MyDrive/files', [\".event\"])\n",
        "\n",
        "datafiles.sort()\n",
        "print(subfolders[:3])\n",
        "print(datafiles[:3])\n"
      ],
      "metadata": {
        "colab": {
          "base_uri": "https://localhost:8080/"
        },
        "id": "cClunDBpU1Yk",
        "outputId": "b843e09a-897b-4758-f76a-9585a941c7ef"
      },
      "execution_count": 19,
      "outputs": [
        {
          "output_type": "stream",
          "name": "stdout",
          "text": [
            "['/content/drive/MyDrive/files/S066', '/content/drive/MyDrive/files/S067', '/content/drive/MyDrive/files/S068']\n",
            "['/content/drive/MyDrive/files/S001/S001R01.edf', '/content/drive/MyDrive/files/S001/S001R02.edf', '/content/drive/MyDrive/files/S001/S001R03.edf']\n"
          ]
        }
      ]
    },
    {
      "cell_type": "markdown",
      "source": [
        "## **Biblioteca MNE: https://mne.tools/stable/index.html**\n"
      ],
      "metadata": {
        "id": "jnKG2YPOVxEW"
      }
    },
    {
      "cell_type": "code",
      "source": [
        "!pip install mne\n",
        "import mne"
      ],
      "metadata": {
        "id": "bkkq8TGnV35d",
        "colab": {
          "base_uri": "https://localhost:8080/"
        },
        "outputId": "8ef82ef4-04d2-469b-e3a2-98f3fdc2365e"
      },
      "execution_count": 5,
      "outputs": [
        {
          "output_type": "stream",
          "name": "stdout",
          "text": [
            "Looking in indexes: https://pypi.org/simple, https://us-python.pkg.dev/colab-wheels/public/simple/\n",
            "Collecting mne\n",
            "  Downloading mne-1.3.1-py3-none-any.whl (7.6 MB)\n",
            "\u001b[2K     \u001b[90m━━━━━━━━━━━━━━━━━━━━━━━━━━━━━━━━━━━━━━━━\u001b[0m \u001b[32m7.6/7.6 MB\u001b[0m \u001b[31m44.6 MB/s\u001b[0m eta \u001b[36m0:00:00\u001b[0m\n",
            "\u001b[?25hRequirement already satisfied: numpy>=1.15.4 in /usr/local/lib/python3.9/dist-packages (from mne) (1.22.4)\n",
            "Requirement already satisfied: tqdm in /usr/local/lib/python3.9/dist-packages (from mne) (4.65.0)\n",
            "Requirement already satisfied: matplotlib in /usr/local/lib/python3.9/dist-packages (from mne) (3.7.1)\n",
            "Requirement already satisfied: decorator in /usr/local/lib/python3.9/dist-packages (from mne) (4.4.2)\n",
            "Requirement already satisfied: scipy>=1.1.0 in /usr/local/lib/python3.9/dist-packages (from mne) (1.10.1)\n",
            "Requirement already satisfied: pooch>=1.5 in /usr/local/lib/python3.9/dist-packages (from mne) (1.6.0)\n",
            "Requirement already satisfied: jinja2 in /usr/local/lib/python3.9/dist-packages (from mne) (3.1.2)\n",
            "Requirement already satisfied: packaging in /usr/local/lib/python3.9/dist-packages (from mne) (23.0)\n",
            "Requirement already satisfied: requests>=2.19.0 in /usr/local/lib/python3.9/dist-packages (from pooch>=1.5->mne) (2.27.1)\n",
            "Requirement already satisfied: appdirs>=1.3.0 in /usr/local/lib/python3.9/dist-packages (from pooch>=1.5->mne) (1.4.4)\n",
            "Requirement already satisfied: MarkupSafe>=2.0 in /usr/local/lib/python3.9/dist-packages (from jinja2->mne) (2.1.2)\n",
            "Requirement already satisfied: fonttools>=4.22.0 in /usr/local/lib/python3.9/dist-packages (from matplotlib->mne) (4.39.2)\n",
            "Requirement already satisfied: kiwisolver>=1.0.1 in /usr/local/lib/python3.9/dist-packages (from matplotlib->mne) (1.4.4)\n",
            "Requirement already satisfied: pillow>=6.2.0 in /usr/local/lib/python3.9/dist-packages (from matplotlib->mne) (8.4.0)\n",
            "Requirement already satisfied: contourpy>=1.0.1 in /usr/local/lib/python3.9/dist-packages (from matplotlib->mne) (1.0.7)\n",
            "Requirement already satisfied: cycler>=0.10 in /usr/local/lib/python3.9/dist-packages (from matplotlib->mne) (0.11.0)\n",
            "Requirement already satisfied: pyparsing>=2.3.1 in /usr/local/lib/python3.9/dist-packages (from matplotlib->mne) (3.0.9)\n",
            "Requirement already satisfied: python-dateutil>=2.7 in /usr/local/lib/python3.9/dist-packages (from matplotlib->mne) (2.8.2)\n",
            "Requirement already satisfied: importlib-resources>=3.2.0 in /usr/local/lib/python3.9/dist-packages (from matplotlib->mne) (5.12.0)\n",
            "Requirement already satisfied: zipp>=3.1.0 in /usr/local/lib/python3.9/dist-packages (from importlib-resources>=3.2.0->matplotlib->mne) (3.15.0)\n",
            "Requirement already satisfied: six>=1.5 in /usr/local/lib/python3.9/dist-packages (from python-dateutil>=2.7->matplotlib->mne) (1.16.0)\n",
            "Requirement already satisfied: charset-normalizer~=2.0.0 in /usr/local/lib/python3.9/dist-packages (from requests>=2.19.0->pooch>=1.5->mne) (2.0.12)\n",
            "Requirement already satisfied: urllib3<1.27,>=1.21.1 in /usr/local/lib/python3.9/dist-packages (from requests>=2.19.0->pooch>=1.5->mne) (1.26.15)\n",
            "Requirement already satisfied: idna<4,>=2.5 in /usr/local/lib/python3.9/dist-packages (from requests>=2.19.0->pooch>=1.5->mne) (3.4)\n",
            "Requirement already satisfied: certifi>=2017.4.17 in /usr/local/lib/python3.9/dist-packages (from requests>=2.19.0->pooch>=1.5->mne) (2022.12.7)\n",
            "Installing collected packages: mne\n",
            "Successfully installed mne-1.3.1\n"
          ]
        }
      ]
    },
    {
      "cell_type": "markdown",
      "source": [
        "## **Ler dados e separar/agrupar os blocos de EEG consoante o tipo/classe de movimento**"
      ],
      "metadata": {
        "id": "0wI6hZBp1c5w"
      }
    },
    {
      "cell_type": "code",
      "source": [
        "def load_subject_data(subject, datafiles):\n",
        "  subject_number = subject.split('files/S')[1][:2] # [1] corresponde à segunda string da string original dividida \n",
        "\n",
        "  trials=[] # Pré-alocação do array na memória\n",
        "  for trial in datafiles:\n",
        "    if subject_number in trial:\n",
        "      \n",
        "\n",
        "  \n",
        "  data = mne.io.read_raw_edf(trial, preload = True) # Dados EEG para um trial específico. 'Preload=True' serve para colocar o ficheiro na memória e não apenas referenciá-lo no diretório\n",
        "  \n",
        "  ch_names = data.ch_names # Elétrodos\n",
        "  print(\"\\nElétrodos: \", ch_names)\n",
        "\n",
        "  fs =  data.info.get('sfreq') # Frequência de amostragem\n",
        "  annotations = data.annotations # Variável que contém os dados no tempo relativos aos blocos de movimentos executados\n",
        "  \n",
        "  trial_type1 = [3, 4, 7, 8, 11, 12]\n",
        "  trial_type2 = [5, 6, 9, 10, 13, 14]\n",
        "\n",
        "  '''\n",
        "  Descrição dos eventos:\n",
        "\n",
        "  Each annotation includes one of three codes (T0, T1, or T2):\n",
        "\n",
        "    - T0 corresponds to rest\n",
        "    - T1 corresponds to onset of motion (real or imagined) of the left fist (in runs 3, 4, 7, 8, 11, and 12)\n",
        "                                                                  both fists (in runs 5, 6, 9, 10, 13, and 14)\n",
        "    - T2 corresponds to onset of motion (real or imagined) of the right fist (in runs 3, 4, 7, 8, 11, and 12)\n",
        "                                                                  both feet (in runs 5, 6, 9, 10, 13, and 14)\n",
        "  '''\n",
        "\n",
        "  # Atribuição das labels corretas aos eventos de cada trial\n",
        "\n",
        "  trial_number = int(trial.split('.')[0][-2:]) # De 1 a 14\n",
        "  print(\"\\nTrial: \",trial_number)\n",
        "  if trial_number in trial_type1:\n",
        "    event_ids = {'T0': 1, 'T1': 2, 'T2': 4} # Dicionário com os ids dos eventos de acordo com a descrição a laranja ^^\n",
        "    epoch_event_ids = {\"rest/block\": 1, \"left_fist/block\": 2, \"both_fists/block\": 4}\n",
        "  elif trial_number in trial_type2:\n",
        "    event_ids = {'T0': 1, 'T1': 3, 'T2': 5}\n",
        "    epoch_event_ids = {\"rest/block\": 1, \"right_fist/block\": 3,\"both_feet/block\": 5}\n",
        "  else:\n",
        "    event_ids = {'T0': 1}\n",
        "\n",
        "  events = mne.events_from_annotations(data, event_id = event_ids) # Variável eventos: Retorna 3 colunas [Indice da amostra onde começa o bloco, Trigger, Tipo de movimento (label)]\n",
        "  print(\"\\n\")\n",
        "  figure = mne.viz.plot_events(events[0]) # Gráfico dos eventos\n",
        "\n",
        "  print(\"\\nInfo dos dados: \", data.info)\n",
        "  print(\"\\nAnotações: \", annotations.description)\n",
        "  print(\"\\nEventos: \", events)\n",
        "  print(\"\\n\")\n",
        "\n",
        "  # Agrupamento dos blocos do mesmo id\n",
        "\n",
        "  epochs = mne.Epochs(data, events[0], event_id = epoch_event_ids, baseline = None, preload = True)\n",
        "  print(\"Informação dos blocos: \", epochs.info)\n",
        "  #epochs[\"right_fist\"].plot_image(picks=[8])\n",
        "\n",
        "  data.plot(events=events[0])\n",
        "\n",
        "load_subject_data(datafiles[5])\n"
      ],
      "metadata": {
        "id": "DViPAXWcXPfu"
      },
      "execution_count": null,
      "outputs": []
    },
    {
      "cell_type": "code",
      "source": [],
      "metadata": {
        "colab": {
          "base_uri": "https://localhost:8080/"
        },
        "id": "Ekd8YF_CwqfV",
        "outputId": "24cce3c1-8ca9-4e29-bf1c-91efec19c51f"
      },
      "execution_count": null,
      "outputs": [
        {
          "output_type": "stream",
          "name": "stdout",
          "text": [
            "The number is in the list.\n"
          ]
        }
      ]
    }
  ]
}