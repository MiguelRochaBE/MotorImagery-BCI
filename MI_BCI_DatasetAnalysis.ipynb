{
  "nbformat": 4,
  "nbformat_minor": 0,
  "metadata": {
    "colab": {
      "provenance": [],
      "include_colab_link": true
    },
    "kernelspec": {
      "name": "python3",
      "display_name": "Python 3"
    },
    "language_info": {
      "name": "python"
    }
  },
  "cells": [
    {
      "cell_type": "markdown",
      "metadata": {
        "id": "view-in-github",
        "colab_type": "text"
      },
      "source": [
        "<a href=\"https://colab.research.google.com/github/MiguelRochaBE/MotorImagery-BCI/blob/master/MI_BCI_DatasetAnalysis.ipynb\" target=\"_parent\"><img src=\"https://colab.research.google.com/assets/colab-badge.svg\" alt=\"Open In Colab\"/></a>"
      ]
    },
    {
      "cell_type": "markdown",
      "source": [
        "## **Conexão ao Google Colab**"
      ],
      "metadata": {
        "id": "VrKyad_4ULIA"
      }
    },
    {
      "cell_type": "code",
      "execution_count": 12,
      "metadata": {
        "colab": {
          "base_uri": "https://localhost:8080/"
        },
        "id": "JhTDeScvTnWH",
        "outputId": "37e67ddd-e53a-4b38-d101-67d0975b8e81"
      },
      "outputs": [
        {
          "output_type": "stream",
          "name": "stdout",
          "text": [
            "Mounted at /content/drive\n"
          ]
        }
      ],
      "source": [
        "from google.colab import drive\n",
        "drive.mount('/content/drive', force_remount=True) "
      ]
    },
    {
      "cell_type": "markdown",
      "source": [
        "## **Extrair base de dados do ficheiro zip**\n",
        "\n",
        "Link: https://physionet.org/content/eegmmidb/1.0.0/"
      ],
      "metadata": {
        "id": "7hhzOCwEUcc5"
      }
    },
    {
      "cell_type": "code",
      "source": [
        "!unzip -u \"/content/drive/MyDrive/B(i)onitos/files.zip\" -d \"/content/drive/MyDrive\""
      ],
      "metadata": {
        "id": "UyPFvu1_Ubuo"
      },
      "execution_count": null,
      "outputs": []
    },
    {
      "cell_type": "markdown",
      "source": [
        "## **Listar todos os ficheiros da base de dados**"
      ],
      "metadata": {
        "id": "bgr4FISrU2J_"
      }
    },
    {
      "cell_type": "code",
      "source": [
        "import os\n",
        "\n",
        "def run_fast_scandir(dir, ext):    # dir: str, ext: list\n",
        "    subfolders, datafiles = [], []\n",
        "\n",
        "    for f in os.scandir(dir):\n",
        "        if f.is_dir():\n",
        "            subfolders.append(f.path)\n",
        "        if f.is_file():\n",
        "            if os.path.splitext(f.name)[1].lower() in ext:\n",
        "                datafiles.append(f.path)\n",
        "\n",
        "    for dir in list(subfolders):\n",
        "        sf, f = run_fast_scandir(dir, ext)\n",
        "        subfolders.extend(sf)\n",
        "        datafiles.extend(f)\n",
        "    return subfolders, datafiles\n",
        "\n",
        "\n",
        "subfolders, datafiles = run_fast_scandir('/content/drive/MyDrive/files', [\".edf\"])\n",
        "#subfolders, eventfiles = run_fast_scandir('/content/drive/MyDrive/files', [\".event\"])\n",
        "\n",
        "subfolders.sort()\n",
        "datafiles.sort()\n",
        "print(subfolders[:3])\n",
        "print(datafiles[:3])\n"
      ],
      "metadata": {
        "colab": {
          "base_uri": "https://localhost:8080/"
        },
        "id": "cClunDBpU1Yk",
        "outputId": "b942e835-1b24-4c2e-8937-2f31dff19b2b"
      },
      "execution_count": 13,
      "outputs": [
        {
          "output_type": "stream",
          "name": "stdout",
          "text": [
            "['/content/drive/MyDrive/files/S001', '/content/drive/MyDrive/files/S002', '/content/drive/MyDrive/files/S003']\n",
            "['/content/drive/MyDrive/files/S001/S001R01.edf', '/content/drive/MyDrive/files/S001/S001R02.edf', '/content/drive/MyDrive/files/S001/S001R03.edf']\n"
          ]
        }
      ]
    },
    {
      "cell_type": "markdown",
      "source": [
        "## **Biblioteca MNE: https://mne.tools/stable/index.html**\n"
      ],
      "metadata": {
        "id": "jnKG2YPOVxEW"
      }
    },
    {
      "cell_type": "code",
      "source": [
        "!pip install mne\n",
        "import mne\n",
        "import numpy as np"
      ],
      "metadata": {
        "id": "bkkq8TGnV35d",
        "colab": {
          "base_uri": "https://localhost:8080/"
        },
        "outputId": "a4ab67c7-3b65-4661-d228-741c60a2eb62"
      },
      "execution_count": 14,
      "outputs": [
        {
          "output_type": "stream",
          "name": "stdout",
          "text": [
            "Looking in indexes: https://pypi.org/simple, https://us-python.pkg.dev/colab-wheels/public/simple/\n",
            "Requirement already satisfied: mne in /usr/local/lib/python3.9/dist-packages (1.3.1)\n",
            "Requirement already satisfied: decorator in /usr/local/lib/python3.9/dist-packages (from mne) (4.4.2)\n",
            "Requirement already satisfied: matplotlib in /usr/local/lib/python3.9/dist-packages (from mne) (3.7.1)\n",
            "Requirement already satisfied: scipy>=1.1.0 in /usr/local/lib/python3.9/dist-packages (from mne) (1.10.1)\n",
            "Requirement already satisfied: packaging in /usr/local/lib/python3.9/dist-packages (from mne) (23.0)\n",
            "Requirement already satisfied: jinja2 in /usr/local/lib/python3.9/dist-packages (from mne) (3.1.2)\n",
            "Requirement already satisfied: numpy>=1.15.4 in /usr/local/lib/python3.9/dist-packages (from mne) (1.22.4)\n",
            "Requirement already satisfied: tqdm in /usr/local/lib/python3.9/dist-packages (from mne) (4.65.0)\n",
            "Requirement already satisfied: pooch>=1.5 in /usr/local/lib/python3.9/dist-packages (from mne) (1.6.0)\n",
            "Requirement already satisfied: appdirs>=1.3.0 in /usr/local/lib/python3.9/dist-packages (from pooch>=1.5->mne) (1.4.4)\n",
            "Requirement already satisfied: requests>=2.19.0 in /usr/local/lib/python3.9/dist-packages (from pooch>=1.5->mne) (2.27.1)\n",
            "Requirement already satisfied: MarkupSafe>=2.0 in /usr/local/lib/python3.9/dist-packages (from jinja2->mne) (2.1.2)\n",
            "Requirement already satisfied: contourpy>=1.0.1 in /usr/local/lib/python3.9/dist-packages (from matplotlib->mne) (1.0.7)\n",
            "Requirement already satisfied: importlib-resources>=3.2.0 in /usr/local/lib/python3.9/dist-packages (from matplotlib->mne) (5.12.0)\n",
            "Requirement already satisfied: cycler>=0.10 in /usr/local/lib/python3.9/dist-packages (from matplotlib->mne) (0.11.0)\n",
            "Requirement already satisfied: pyparsing>=2.3.1 in /usr/local/lib/python3.9/dist-packages (from matplotlib->mne) (3.0.9)\n",
            "Requirement already satisfied: python-dateutil>=2.7 in /usr/local/lib/python3.9/dist-packages (from matplotlib->mne) (2.8.2)\n",
            "Requirement already satisfied: fonttools>=4.22.0 in /usr/local/lib/python3.9/dist-packages (from matplotlib->mne) (4.39.3)\n",
            "Requirement already satisfied: pillow>=6.2.0 in /usr/local/lib/python3.9/dist-packages (from matplotlib->mne) (8.4.0)\n",
            "Requirement already satisfied: kiwisolver>=1.0.1 in /usr/local/lib/python3.9/dist-packages (from matplotlib->mne) (1.4.4)\n",
            "Requirement already satisfied: zipp>=3.1.0 in /usr/local/lib/python3.9/dist-packages (from importlib-resources>=3.2.0->matplotlib->mne) (3.15.0)\n",
            "Requirement already satisfied: six>=1.5 in /usr/local/lib/python3.9/dist-packages (from python-dateutil>=2.7->matplotlib->mne) (1.16.0)\n",
            "Requirement already satisfied: urllib3<1.27,>=1.21.1 in /usr/local/lib/python3.9/dist-packages (from requests>=2.19.0->pooch>=1.5->mne) (1.26.15)\n",
            "Requirement already satisfied: idna<4,>=2.5 in /usr/local/lib/python3.9/dist-packages (from requests>=2.19.0->pooch>=1.5->mne) (3.4)\n",
            "Requirement already satisfied: charset-normalizer~=2.0.0 in /usr/local/lib/python3.9/dist-packages (from requests>=2.19.0->pooch>=1.5->mne) (2.0.12)\n",
            "Requirement already satisfied: certifi>=2017.4.17 in /usr/local/lib/python3.9/dist-packages (from requests>=2.19.0->pooch>=1.5->mne) (2022.12.7)\n"
          ]
        }
      ]
    },
    {
      "cell_type": "markdown",
      "source": [
        "## **Desenhar filtro passa-banda**"
      ],
      "metadata": {
        "id": "hZ_ATUtRCaTb"
      }
    },
    {
      "cell_type": "code",
      "source": [
        "mne.set_log_level('INFO') #  Suprimir os logs das funções da biblioteca/ it can be either DEBUG, INFO, WARNING, ERROR, or CRITICAL\n",
        "\n",
        "fmin = 8.\n",
        "fmax = 30.\n",
        "filter_design = 'firwin'\n",
        "ska = 'edge'\n",
        "\n",
        "raw = mne.io.read_raw_edf(datafiles[0], preload = False)\n",
        "\n",
        "filter_params = mne.filter.create_filter(raw.get_data(), raw.info['sfreq'],l_freq=fmin, h_freq=fmax, fir_design = filter_design) # Criar filtro. É preciso dados como parâmetro\n",
        "mne.viz.plot_filter(filter_params, raw.info['sfreq'], flim=(3, 60)) # Plot do filtro\n",
        "\n",
        "mne.set_log_level('WARNING')"
      ],
      "metadata": {
        "colab": {
          "base_uri": "https://localhost:8080/",
          "height": 778
        },
        "id": "RgJ03FC7CZ0H",
        "outputId": "fdd69f6f-8b8d-443b-b17f-5db81a6a5da8"
      },
      "execution_count": 15,
      "outputs": [
        {
          "output_type": "stream",
          "name": "stdout",
          "text": [
            "Extracting EDF parameters from /content/drive/MyDrive/files/S001/S001R01.edf...\n",
            "EDF file detected\n",
            "Setting channel info structure...\n",
            "Creating raw.info structure...\n",
            "Setting up band-pass filter from 8 - 30 Hz\n",
            "\n",
            "FIR filter parameters\n",
            "---------------------\n",
            "Designing a one-pass, zero-phase, non-causal bandpass filter:\n",
            "- Windowed time-domain design (firwin) method\n",
            "- Hamming window with 0.0194 passband ripple and 53 dB stopband attenuation\n",
            "- Lower passband edge: 8.00\n",
            "- Lower transition bandwidth: 2.00 Hz (-6 dB cutoff frequency: 7.00 Hz)\n",
            "- Upper passband edge: 30.00 Hz\n",
            "- Upper transition bandwidth: 7.50 Hz (-6 dB cutoff frequency: 33.75 Hz)\n",
            "- Filter length: 265 samples (1.656 sec)\n",
            "\n"
          ]
        },
        {
          "output_type": "display_data",
          "data": {
            "text/plain": [
              "<Figure size 640x480 with 3 Axes>"
            ],
            "image/png": "[encoded data removed]"
          },
          "metadata": {}
        }
      ]
    },
    {
      "cell_type": "markdown",
      "source": [
        "* Não há **delay** no filtro, ou seja, a fase do sinal em todas as frequências permance a mesma. Isto refere-se ao facto de certos filtros provocarem pequenos desvios na fase do sinal, o que levaria a que o instante em que é dada a 'cue' visual para o participante mover determinado membro deixasse de ficar sincronizado com o sinal do EEG, podendo interferir com as janelas de tempo das features de interesse.\n",
        "\n",
        "* Outro aspeto importante é o filtro ser **FIR** e não **IIR**. Os filtros **IIR**, apesar de apresentarem bandas de transição inferiores, isto é, a transição entre as frequências que se querem manter e as frequências que se querem retirar ser mais íngreme, estes também são mais instáveis que os filtros **FIR**. Mais importante ainda, os filtros **IIR** apresentam desvios de fase não lineares, ou seja, a mudança de fase não é a mesma em todas as frequências, provocando desvios no sinal que são difícies de controlar. Já nos filtro **FIR**, o desvio na fase é linear sendo possível compensá-lo e anulá-lo muito mais facilmente, sendo computacionalmente mais eficiente fazê-lo e com erro nulo sabendo o valor deste desvio. Isto geralmente é feito automaticamente.\n",
        "\n",
        "* O *filter_desing* é o *firwin* e não *firwin2* porque o primeiro apresenta menos amostras e possui um resultado quase idêntico. Isto será importante durante o processamento em tempo real dos nossos sinais."
      ],
      "metadata": {
        "id": "d4uSlQsDz3zw"
      }
    },
    {
      "cell_type": "markdown",
      "source": [
        "## **Ler dados e separar/agrupar os blocos de EEG consoante o tipo/classe de movimento**"
      ],
      "metadata": {
        "id": "0wI6hZBp1c5w"
      }
    },
    {
      "cell_type": "code",
      "source": [
        "def load_subject_data(subject, datafiles):\n",
        "\n",
        "  '''\n",
        "  Descrição dos eventos:\n",
        "\n",
        "  Each annotation includes one of three codes (T0, T1, or T2):\n",
        "\n",
        "    - T0 corresponds to rest\n",
        "    - T1 corresponds to onset of motion (real or imagined) of the left fist (in runs 3, 4, 7, 8, 11, and 12)\n",
        "                                                                    both fists (in runs 5, 6, 9, 10, 13, and 14)\n",
        "    - T2 corresponds to onset of motion (real or imagined) of the right fist (in runs 3, 4, 7, 8, 11, and 12)\n",
        "                                                                    both feet (in runs 5, 6, 9, 10, 13, and 14)\n",
        "  '''\n",
        "\n",
        "  trials = []\n",
        "  for trial in datafiles: \n",
        "    if subject in trial: \n",
        "      trials.append(trial)\n",
        "  \n",
        "  print(\"Ficheiros a ler: \", trials)\n",
        "  \n",
        "  all_trials = [] # Variável com todos os blocos\n",
        "  \n",
        "  rest_events = 0 # Variáveis para contagem de eventos\n",
        "  left_fist_events = 0\n",
        "  right_fist_events = 0\n",
        "  both_fists_events = 0\n",
        "  both_feet_events = 0\n",
        "\n",
        "  for count, trial  in enumerate(trials):\n",
        "    if count > 1: # Avança os dois primeiros trials correspondentes ao rest\n",
        "      raw_data = mne.io.read_raw_edf(trial, preload = True) # Dados EEG para um trial específico. 'Preload=True' serve para colocar o ficheiro na memória e não apenas referenciá-lo no diretório\n",
        "      \n",
        "      filtered_data = raw_data.copy().filter(fmin, fmax, fir_design=filter_design, skip_by_annotation=ska) # Filtrar os dados\n",
        "\n",
        "      ch_names = filtered_data.ch_names # Elétrodos\n",
        "      fs =  filtered_data.info.get('sfreq') # Frequência de amostragem\n",
        "      annotations = filtered_data.annotations # Variável que contém os dados no tempo relativos aos blocos de movimentos executados\n",
        "      \n",
        "      trial_type1 = [3, 4, 7, 8, 11, 12]\n",
        "      trial_type2 = [5, 6, 9, 10, 13, 14]\n",
        "\n",
        "      # Atribuição das labels corretas aos eventos de cada trial\n",
        "\n",
        "      trial_number = int(trial.split('.')[0][-2:]) # De 1 a 14; [0] corresponde à primeira parte da string original;\n",
        "      print(\"Trial lido: \",trial_number)\n",
        "      if trial_number in trial_type1:\n",
        "        event_ids = {'T0': 1, 'T1': 2, 'T2': 3} # Dicionário com os ids dos eventos de acordo com a descrição a laranja ^^\n",
        "        epoch_event_ids = {\"rest/block\": 1, \"left_fist/block\": 2, \"right_fist/block\": 3}\n",
        "      elif trial_number in trial_type2:\n",
        "        event_ids = {'T0': 1, 'T1': 4, 'T2': 5}\n",
        "        epoch_event_ids = {\"rest/block\": 1, \"both_fists/block\": 4,\"both_feet/block\": 5}\n",
        "      else:\n",
        "        event_ids = {'T0': 1} # Dois primeiros trials de EEG\n",
        "\n",
        "      events = mne.events_from_annotations(filtered_data, event_id = event_ids) # Variável eventos: Retorna 3 colunas [Indice da amostra onde começa o bloco, Trigger, Tipo de movimento (label)]\n",
        "      \n",
        "      # Agrupamento dos blocos do mesmo id (epoching)\n",
        "\n",
        "      epochs = mne.Epochs(filtered_data, events[0], event_id = epoch_event_ids, tmin = 0., tmax = 3., detrend = 1, baseline = None, preload = True)\n",
        "      \n",
        "      # Contagem to tipo de eventos para verificar se há perda de informação durante a concatenação\n",
        "\n",
        "      rest_events += epochs[\"rest\"].__len__()\n",
        "      if trial_number in trial_type1:\n",
        "        left_fist_events += epochs[\"left_fist\"].__len__()\n",
        "        right_fist_events += epochs[\"right_fist\"].__len__()\n",
        "      else:\n",
        "        both_fists_events += epochs[\"both_fists\"].__len__()\n",
        "        both_feet_events += epochs[\"both_feet\"].__len__()\n",
        "\n",
        "      if count == len(trials)-1:\n",
        "        print(\"------------------------- Dados do último ficheiro lido -------------------------\")\n",
        "        print(\"\\nInfo dos dados: \", raw_data.info)\n",
        "        print(\"\\nElétrodos: \", ch_names)\n",
        "        print(\"\\nAnotações: \", annotations.description)\n",
        "        print(\"\\nEventos: \", events)\n",
        "        print(\"\\nInformação dos blocos: \", epochs.info)\n",
        "        print(\"\\n\")\n",
        "\n",
        "        figure = mne.viz.plot_events(events[0]) # Gráfico dos eventos\n",
        "        print(\"\\n\")\n",
        "        filtered_data.plot(events=events[0]) # Plot dos dados com a speraração dos eventos\n",
        "\n",
        "      all_trials.append(epochs)\n",
        "\n",
        "  print(\"\\nPré-concatenção de eventos: \")\n",
        "  print(\"Número total de eventos: \", rest_events + left_fist_events + right_fist_events + both_fists_events + both_feet_events)\n",
        "  print(f\"Rest: {rest_events} -- Right Fist: {left_fist_events} -- Left Fist: {right_fist_events} -- Both Fists: {both_fists_events} -- Both Feet: {both_feet_events}\")\n",
        "\n",
        "  # Concatenação de todos os blocos\n",
        "\n",
        "  subject_epochs = mne.concatenate_epochs(all_trials, add_offset = True, on_mismatch = 'raise')\n",
        "\n",
        "  print(\"\\nPós-concatenação de eventos: \")\n",
        "  print(\"Número total de eventos: \", subject_epochs.__len__())\n",
        "  print(\"Rest: \", subject_epochs[\"rest\"].__len__())\n",
        "  print(\"Right Fist: \", subject_epochs[\"right_fist\"].__len__())\n",
        "  print(\"Left Fist: \", subject_epochs[\"left_fist\"].__len__())\n",
        "  print(\"Both Fists: \", subject_epochs[\"both_fists\"].__len__())\n",
        "  print(\"Both Feet: \", subject_epochs[\"both_feet\"].__len__())\n",
        "  print(\"\\n\")\n",
        "\n",
        "  print(np.shape(epochs))\n",
        "  \n",
        "  return subject_epochs, ch_names\n",
        "\n",
        "subject_epochs, channels = load_subject_data(subfolders[10],datafiles)\n"
      ],
      "metadata": {
        "id": "DViPAXWcXPfu"
      },
      "execution_count": null,
      "outputs": []
    },
    {
      "cell_type": "markdown",
      "source": [
        "* A filtragem é preferível fazer nos dados contínuos e não depois da segmentação. Isto tem a ver com o janelamento dos filtros, o qual neste caso usa a janela de **Hamming**. Isto é usado para fazer o *tappering* do sinal, ou seja, envolver o sinal numa janela para que as pontas fiquem a 0.\n",
        "\n",
        "* Se isto não acontecesse, os filtros e, de forma geral, todos os métodos convolucionais de processamento de sinal (fft, wavelets, etc) provocariam artefactos enormes nas pontas do sinal.\n",
        "\n",
        "* Os sinais sendo filtrados no segmento contínuo, a janela afeta maioritariamente a magnitude dos sinais da ponta, os quais são todos da classe redundante (nesto caso) rest. "
      ],
      "metadata": {
        "id": "nPSBYX3X8pb-"
      }
    },
    {
      "cell_type": "code",
      "source": [
        "# Equaliza o nº de trials em todas as classes. A classe rest tinha muitos mais trials por exemplo.\n",
        "# É importante que haja o mesmo nº de trials para cada classe durante a classificação\n",
        "subject_epochs.equalize_event_counts() \n",
        "\n",
        "print(\"\\nEqualização de eventos: \")\n",
        "print(\"Rest: \", subject_epochs[\"rest\"].__len__())\n",
        "print(\"Right Fist: \", subject_epochs[\"right_fist\"].__len__())\n",
        "print(\"Left Fist: \", subject_epochs[\"left_fist\"].__len__())\n",
        "print(\"Both Fists: \", subject_epochs[\"both_fists\"].__len__())\n",
        "print(\"Both Feet: \", subject_epochs[\"both_feet\"].__len__())\n",
        "print(\"\\n\")\n",
        "\n",
        "# Seleção de elétrodos\n",
        "chan = mne.pick_channels(channels, include = ['C3..','Cz..','C4..'])\n",
        "print(\"Indices: \", chan)\n",
        "\n",
        "#dir(subject_epochs)"
      ],
      "metadata": {
        "id": "iprWParZgPjG",
        "colab": {
          "base_uri": "https://localhost:8080/"
        },
        "outputId": "aa0a4ef3-4730-4aba-a940-908b1dccca15"
      },
      "execution_count": 17,
      "outputs": [
        {
          "output_type": "stream",
          "name": "stdout",
          "text": [
            "\n",
            "Equalização de eventos: \n",
            "Rest:  44\n",
            "Right Fist:  44\n",
            "Left Fist:  44\n",
            "Both Fists:  44\n",
            "Both Feet:  44\n",
            "\n",
            "\n",
            "Indices:  [ 8 10 12]\n"
          ]
        }
      ]
    },
    {
      "cell_type": "code",
      "source": [
        "print(\"Condições: \",subject_epochs.event_id)\n",
        "print(\"\\nBlocos: \",subject_epochs.events)\n",
        "subject_epochs[\"right_fist\"].plot_image(picks=[chan[0]])"
      ],
      "metadata": {
        "id": "NbjAjsE_ifyZ"
      },
      "execution_count": null,
      "outputs": []
    },
    {
      "cell_type": "code",
      "source": [
        "dt = subject_epochs.to_data_frame()\n",
        "print(dt.columns)\n",
        "print(\"\\n\",dt)"
      ],
      "metadata": {
        "id": "Vxeb8c38g5Li"
      },
      "execution_count": null,
      "outputs": []
    },
    {
      "cell_type": "code",
      "source": [
        "umcaso = mne.pick_events(events=subject_epochs.events)\n",
        "subject_epochs['right_fist'].plot(events=umcaso, event_id=subject_epochs.event_id) #são 45 treinos\n",
        "\n",
        "#print(subject_epochs['right_fist'][])\n",
        "#(Talvez excluir os elétrodos que não vamos usar; não sei como.)\n",
        "\n",
        "#Com isto, conseguimos ver cada epoch de cada movimento nos 64 elétrodos. Supostamente, com os 45 epochs, podíamos usá-los para fazer cross-validation.\n",
        "#Mas como é que pegamos neles para fazer isso? Não são arrays numéricos, ou são? Se fossem, usando o sklearn não seria difícil ensinar.\n",
        "#(A resposta deve ser simples, eu é que não sou muito experiente.)\n",
        "#Outra questão: que modelo de treino usamos? Logistic Regression?\n",
        "#Outra questão: na cross-validation, concatenam-se os 45 epochs (subject_epochs['right_fist'] em vez de subject_epochs['right_fist'][i])?\n",
        "#Assinado: Samuel Neves."
      ],
      "metadata": {
        "id": "k3W21lYY4zDL"
      },
      "execution_count": null,
      "outputs": []
    },
    {
      "cell_type": "code",
      "source": [
        "print(\"[Trials, Elétrodos, Amostras] =\",np.shape(subject_epochs.get_data()))"
      ],
      "metadata": {
        "colab": {
          "base_uri": "https://localhost:8080/"
        },
        "id": "jh45CO4QMIBR",
        "outputId": "dc2f21f0-a82a-4557-a40c-4280d3fe1b11"
      },
      "execution_count": 11,
      "outputs": [
        {
          "output_type": "stream",
          "name": "stdout",
          "text": [
            "[Trials, Elétrodos, Amostras] = (220, 64, 481)\n"
          ]
        }
      ]
    },
    {
      "cell_type": "markdown",
      "source": [
        "## **Dados Train/Test**"
      ],
      "metadata": {
        "id": "rxMlNS8QfJC8"
      }
    },
    {
      "cell_type": "code",
      "source": [
        "def split_EEG(EEG_one_class, percent_train=0.8):\n",
        "  print()"
      ],
      "metadata": {
        "id": "7ydynh5lfIms"
      },
      "execution_count": null,
      "outputs": []
    },
    {
      "cell_type": "markdown",
      "source": [
        "## **Extração de features com o Common Spatial Patterns (CSP)**"
      ],
      "metadata": {
        "id": "v9umIYDW9gzN"
      }
    },
    {
      "cell_type": "code",
      "source": [
        "import numpy as np\n",
        "from numpy import linalg\n",
        "from scipy.linalg import sqrtm\n",
        "from scipy.linalg import inv\n",
        "\n",
        "# Mtrizes das covariâncias\n",
        "\n",
        "def covariances(epoched_data):\n",
        "\n",
        "  '''\n",
        "  Cálculo das matrizes de covariância para cada classe\n",
        "  '''\n",
        "\n",
        "  classes = epoched_data.event_id\n",
        "  n_trials, n_channels, n_samples = np.shape(epoched_data)\n",
        "  n_trials = int(n_trials/len(classes))\n",
        "  Trials_convs = np.zeros((n_trials, n_channels, n_channels))\n",
        "  Class_convs = np.zeros((len(classes), n_channels, n_channels)) \n",
        "  # Pré alocação da variável 'convs'. Isto é boa prática fazer antes de qualquer ciclo para reduzir o tempo de processamento pré-alocando o array na memória.\n",
        "  \n",
        "  for mi_class, id in classes.items(): # Iteração de um dicionário\n",
        "    Xc = epoched_data[mi_class].get_data()\n",
        "    for trial in range(n_trials):\n",
        "      Trials_convs[trial,:,:] = (Xc[trial,:,:] @ Xc[trial,:,:].T) / (np.trace (Xc[trial,:,:] @ Xc[trial,:,:].T))\n",
        "    Class_convs[id-1,:,:] = np.mean(Trials_convs, axis = 0) # Média dos trials da mesma classe\n",
        "    \n",
        "  return Class_convs\n",
        "\n",
        "# Whitening da matriz, ou seja, transformação que permite com que a matriz tenha a mesma covariância da matriz Identidade (I), logo covariâncias de 0 entre todos os pares\n",
        "\n",
        "def decompose_cov(avg_cov):\n",
        "\n",
        "    λ, V = np.linalg.eig(avg_cov) # λ são o eigenvalues e V os eigenvectors\n",
        "    λ_desc = np.sort(λ)[::-1] \n",
        "    idx_desc = np.argsort(λ)[::-1] \n",
        "    V_desc = V[:, idx_desc] \n",
        "    λ_desc = np.diag(λ_desc) \n",
        "    \n",
        "    return λ_desc, V_desc\n",
        "\n",
        "def whitening(λ_desc, V_desc):\n",
        "\n",
        "    λ_desc_sqr = sqrtm(inv(λ_desc))\n",
        "    P = (λ_desc_sqr)@(V_desc.T)\n",
        "    \n",
        "    return P\n",
        "\n",
        "Class_convs = covariances(subject_epochs)\n",
        "Avg_convs = Class_convs.sum(axis = 0)\n",
        "λ_desc, V_desc = decompose_cov(Avg_convs)\n",
        "P = whitening(λ_desc, V_desc)\n",
        "\n",
        "# Matriz S que contém os eigenvectors que maximizam a variância do EEG (freq) numa classe e minimiza noutra\n",
        "\n",
        "def compute_S(avg_Cov, white):\n",
        "    \n",
        "    S = white@avg_Cov @ white.T\n",
        " \n",
        "    return S\n",
        "\n",
        "def decompose_S(S_one_class, order='d'):\n",
        "  \n",
        "    λ, B = np.linalg.eig(S_one_class)\n",
        "    \n",
        "    if order == 'a': # ascending\n",
        "        idx = λ.argsort() \n",
        "    elif order == 'd': # descending\n",
        "        idx = λ.argsort()[::-1] \n",
        "    else:\n",
        "        print('Wrong order input')\n",
        "    \n",
        "    λ = λ[idx]\n",
        "    B = B[:, idx]\n",
        "    \n",
        "    return B, λ \n",
        "\n",
        "classes = subject_epochs.event_id\n",
        "\n",
        "# One-vs-the-rest CSP\n",
        "\n",
        "B_one_class = np.zeros( (len(classes),len(subject_epochs.get_channel_types())) )\n",
        "B_the_rest_classes = np.zeros( (len(classes),len(subject_epochs.get_channel_types())) )\n",
        "\n",
        "for _, id in classes.items(): \n",
        "\n",
        "  one = compute_S(Class_convs[id-1,:,:],P)\n",
        "  the_rest = compute_S(  np.sum(Class_convs[:(id-1),:,:], axis = 0) + np.sum(Class_convs[id:,:,:], axis = 0)  , P)\n",
        "\n",
        "  λ_one, B_one = decompose_S(one, 'd')\n",
        "  λ_the_rest, B_the_rest = decompose_S(the_rest, 'a')\n",
        "\n",
        "  B_one_class[id-1,:] = B_one\n",
        "  B_the_rest_classes[id-1,:] = B_the_rest\n",
        "  \n",
        "  #print(\"Valores antes: \", Class_convs[:(id-1),0,0])\n",
        "  #print(\"Valor atual: \", Class_convs[id-1,0,0])\n",
        "  #print(\"Valores depois: \", Class_convs[id:,0,0])\n",
        "  print(\"Eigenvalues: \", B_one + B_the_rest)\n",
        "\n",
        "# Filtro espacial (Matriz de projeção)\n",
        "\n",
        "def spatial_filter(B, P):\n",
        "\n",
        "    return (B.T @ P)"
      ],
      "metadata": {
        "colab": {
          "base_uri": "https://localhost:8080/"
        },
        "id": "YwsOQIcvR4tk",
        "outputId": "51eaeef5-76a7-4678-8773-10673f9b6200"
      },
      "execution_count": 60,
      "outputs": [
        {
          "output_type": "stream",
          "name": "stdout",
          "text": [
            "Eigenvalues:  [1. 1. 1. 1. 1. 1. 1. 1. 1. 1. 1. 1. 1. 1. 1. 1. 1. 1. 1. 1. 1. 1. 1. 1.\n",
            " 1. 1. 1. 1. 1. 1. 1. 1. 1. 1. 1. 1. 1. 1. 1. 1. 1. 1. 1. 1. 1. 1. 1. 1.\n",
            " 1. 1. 1. 1. 1. 1. 1. 1. 1. 1. 1. 1. 1. 1. 1. 1.]\n",
            "Eigenvalues:  [1. 1. 1. 1. 1. 1. 1. 1. 1. 1. 1. 1. 1. 1. 1. 1. 1. 1. 1. 1. 1. 1. 1. 1.\n",
            " 1. 1. 1. 1. 1. 1. 1. 1. 1. 1. 1. 1. 1. 1. 1. 1. 1. 1. 1. 1. 1. 1. 1. 1.\n",
            " 1. 1. 1. 1. 1. 1. 1. 1. 1. 1. 1. 1. 1. 1. 1. 1.]\n",
            "Eigenvalues:  [1. 1. 1. 1. 1. 1. 1. 1. 1. 1. 1. 1. 1. 1. 1. 1. 1. 1. 1. 1. 1. 1. 1. 1.\n",
            " 1. 1. 1. 1. 1. 1. 1. 1. 1. 1. 1. 1. 1. 1. 1. 1. 1. 1. 1. 1. 1. 1. 1. 1.\n",
            " 1. 1. 1. 1. 1. 1. 1. 1. 1. 1. 1. 1. 1. 1. 1. 1.]\n",
            "Eigenvalues:  [1. 1. 1. 1. 1. 1. 1. 1. 1. 1. 1. 1. 1. 1. 1. 1. 1. 1. 1. 1. 1. 1. 1. 1.\n",
            " 1. 1. 1. 1. 1. 1. 1. 1. 1. 1. 1. 1. 1. 1. 1. 1. 1. 1. 1. 1. 1. 1. 1. 1.\n",
            " 1. 1. 1. 1. 1. 1. 1. 1. 1. 1. 1. 1. 1. 1. 1. 1.]\n",
            "Eigenvalues:  [1. 1. 1. 1. 1. 1. 1. 1. 1. 1. 1. 1. 1. 1. 1. 1. 1. 1. 1. 1. 1. 1. 1. 1.\n",
            " 1. 1. 1. 1. 1. 1. 1. 1. 1. 1. 1. 1. 1. 1. 1. 1. 1. 1. 1. 1. 1. 1. 1. 1.\n",
            " 1. 1. 1. 1. 1. 1. 1. 1. 1. 1. 1. 1. 1. 1. 1. 1.]\n"
          ]
        }
      ]
    },
    {
      "cell_type": "markdown",
      "source": [
        "* Os eigenvalues deram todos 1, logo está ✅\n",
        "\n"
      ],
      "metadata": {
        "id": "-_-4-3nwXW_H"
      }
    },
    {
      "cell_type": "code",
      "source": [
        "x = covariances(subject_epochs)\n",
        "print()\n"
      ],
      "metadata": {
        "colab": {
          "base_uri": "https://localhost:8080/"
        },
        "id": "jb0QHXK6E-qW",
        "outputId": "01eb9b40-07da-414b-9d17-fc8fd7302719"
      },
      "execution_count": 59,
      "outputs": [
        {
          "output_type": "stream",
          "name": "stdout",
          "text": [
            "64\n"
          ]
        }
      ]
    }
  ]
}